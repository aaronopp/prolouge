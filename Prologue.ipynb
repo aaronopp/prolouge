{
 "cells": [
  {
   "cell_type": "code",
   "execution_count": 1,
   "metadata": {},
   "outputs": [],
   "source": [
    "import facebook"
   ]
  },
  {
   "cell_type": "code",
   "execution_count": 6,
   "metadata": {},
   "outputs": [],
   "source": [
    "import requests"
   ]
  },
  {
   "cell_type": "code",
   "execution_count": 60,
   "metadata": {},
   "outputs": [],
   "source": [
    "payload = {\n",
    "    'grant_type': 'client_credentials', \n",
    "    'client_id': 378391782635026, \n",
    "    'client_secret': 'e5ccfbb0213af84f1bf0038fcb245cc0',\n",
    "    'scope': 'ads_read',\n",
    "    'redirect-uri': 'localhost:8888',\n",
    "    'state': '12345'\n",
    "}\n",
    "file = requests.post('https://www.facebook.com/v3.0/dialog/oauth', params = payload)"
   ]
  },
  {
   "cell_type": "code",
   "execution_count": 54,
   "metadata": {},
   "outputs": [],
   "source": [
    "import json\n",
    "import requests"
   ]
  },
  {
   "cell_type": "code",
   "execution_count": 56,
   "metadata": {
    "scrolled": true
   },
   "outputs": [
    {
     "data": {
      "text/plain": [
       "requests.models.Response"
      ]
     },
     "execution_count": 56,
     "metadata": {},
     "output_type": "execute_result"
    }
   ],
   "source": [
    "type(file)"
   ]
  },
  {
   "cell_type": "code",
   "execution_count": null,
   "metadata": {},
   "outputs": [],
   "source": [
    "https://www.facebook.com/v3.0/dialog/oauth?\n",
    "  client_id={app-id}\n",
    "  &redirect_uri={redirect-uri}\n",
    "  &state={state-param}"
   ]
  },
  {
   "cell_type": "code",
   "execution_count": 58,
   "metadata": {},
   "outputs": [
    {
     "ename": "JSONDecodeError",
     "evalue": "Expecting value: line 1 column 1 (char 0)",
     "output_type": "error",
     "traceback": [
      "\u001b[0;31m---------------------------------------------------------------------------\u001b[0m",
      "\u001b[0;31mJSONDecodeError\u001b[0m                           Traceback (most recent call last)",
      "\u001b[0;32m<ipython-input-58-2528687df322>\u001b[0m in \u001b[0;36m<module>\u001b[0;34m()\u001b[0m\n\u001b[1;32m      1\u001b[0m \u001b[0;31m#response = requests.get(...)\u001b[0m\u001b[0;34m\u001b[0m\u001b[0;34m\u001b[0m\u001b[0m\n\u001b[0;32m----> 2\u001b[0;31m \u001b[0mjson_data\u001b[0m \u001b[0;34m=\u001b[0m \u001b[0mjson\u001b[0m\u001b[0;34m.\u001b[0m\u001b[0mloads\u001b[0m\u001b[0;34m(\u001b[0m\u001b[0mfile\u001b[0m\u001b[0;34m.\u001b[0m\u001b[0mtext\u001b[0m\u001b[0;34m)\u001b[0m\u001b[0;34m\u001b[0m\u001b[0m\n\u001b[0m",
      "\u001b[0;32m~/anaconda/envs/py36/lib/python3.6/json/__init__.py\u001b[0m in \u001b[0;36mloads\u001b[0;34m(s, encoding, cls, object_hook, parse_float, parse_int, parse_constant, object_pairs_hook, **kw)\u001b[0m\n\u001b[1;32m    352\u001b[0m             \u001b[0mparse_int\u001b[0m \u001b[0;32mis\u001b[0m \u001b[0;32mNone\u001b[0m \u001b[0;32mand\u001b[0m \u001b[0mparse_float\u001b[0m \u001b[0;32mis\u001b[0m \u001b[0;32mNone\u001b[0m \u001b[0;32mand\u001b[0m\u001b[0;34m\u001b[0m\u001b[0m\n\u001b[1;32m    353\u001b[0m             parse_constant is None and object_pairs_hook is None and not kw):\n\u001b[0;32m--> 354\u001b[0;31m         \u001b[0;32mreturn\u001b[0m \u001b[0m_default_decoder\u001b[0m\u001b[0;34m.\u001b[0m\u001b[0mdecode\u001b[0m\u001b[0;34m(\u001b[0m\u001b[0ms\u001b[0m\u001b[0;34m)\u001b[0m\u001b[0;34m\u001b[0m\u001b[0m\n\u001b[0m\u001b[1;32m    355\u001b[0m     \u001b[0;32mif\u001b[0m \u001b[0mcls\u001b[0m \u001b[0;32mis\u001b[0m \u001b[0;32mNone\u001b[0m\u001b[0;34m:\u001b[0m\u001b[0;34m\u001b[0m\u001b[0m\n\u001b[1;32m    356\u001b[0m         \u001b[0mcls\u001b[0m \u001b[0;34m=\u001b[0m \u001b[0mJSONDecoder\u001b[0m\u001b[0;34m\u001b[0m\u001b[0m\n",
      "\u001b[0;32m~/anaconda/envs/py36/lib/python3.6/json/decoder.py\u001b[0m in \u001b[0;36mdecode\u001b[0;34m(self, s, _w)\u001b[0m\n\u001b[1;32m    337\u001b[0m \u001b[0;34m\u001b[0m\u001b[0m\n\u001b[1;32m    338\u001b[0m         \"\"\"\n\u001b[0;32m--> 339\u001b[0;31m         \u001b[0mobj\u001b[0m\u001b[0;34m,\u001b[0m \u001b[0mend\u001b[0m \u001b[0;34m=\u001b[0m \u001b[0mself\u001b[0m\u001b[0;34m.\u001b[0m\u001b[0mraw_decode\u001b[0m\u001b[0;34m(\u001b[0m\u001b[0ms\u001b[0m\u001b[0;34m,\u001b[0m \u001b[0midx\u001b[0m\u001b[0;34m=\u001b[0m\u001b[0m_w\u001b[0m\u001b[0;34m(\u001b[0m\u001b[0ms\u001b[0m\u001b[0;34m,\u001b[0m \u001b[0;36m0\u001b[0m\u001b[0;34m)\u001b[0m\u001b[0;34m.\u001b[0m\u001b[0mend\u001b[0m\u001b[0;34m(\u001b[0m\u001b[0;34m)\u001b[0m\u001b[0;34m)\u001b[0m\u001b[0;34m\u001b[0m\u001b[0m\n\u001b[0m\u001b[1;32m    340\u001b[0m         \u001b[0mend\u001b[0m \u001b[0;34m=\u001b[0m \u001b[0m_w\u001b[0m\u001b[0;34m(\u001b[0m\u001b[0ms\u001b[0m\u001b[0;34m,\u001b[0m \u001b[0mend\u001b[0m\u001b[0;34m)\u001b[0m\u001b[0;34m.\u001b[0m\u001b[0mend\u001b[0m\u001b[0;34m(\u001b[0m\u001b[0;34m)\u001b[0m\u001b[0;34m\u001b[0m\u001b[0m\n\u001b[1;32m    341\u001b[0m         \u001b[0;32mif\u001b[0m \u001b[0mend\u001b[0m \u001b[0;34m!=\u001b[0m \u001b[0mlen\u001b[0m\u001b[0;34m(\u001b[0m\u001b[0ms\u001b[0m\u001b[0;34m)\u001b[0m\u001b[0;34m:\u001b[0m\u001b[0;34m\u001b[0m\u001b[0m\n",
      "\u001b[0;32m~/anaconda/envs/py36/lib/python3.6/json/decoder.py\u001b[0m in \u001b[0;36mraw_decode\u001b[0;34m(self, s, idx)\u001b[0m\n\u001b[1;32m    355\u001b[0m             \u001b[0mobj\u001b[0m\u001b[0;34m,\u001b[0m \u001b[0mend\u001b[0m \u001b[0;34m=\u001b[0m \u001b[0mself\u001b[0m\u001b[0;34m.\u001b[0m\u001b[0mscan_once\u001b[0m\u001b[0;34m(\u001b[0m\u001b[0ms\u001b[0m\u001b[0;34m,\u001b[0m \u001b[0midx\u001b[0m\u001b[0;34m)\u001b[0m\u001b[0;34m\u001b[0m\u001b[0m\n\u001b[1;32m    356\u001b[0m         \u001b[0;32mexcept\u001b[0m \u001b[0mStopIteration\u001b[0m \u001b[0;32mas\u001b[0m \u001b[0merr\u001b[0m\u001b[0;34m:\u001b[0m\u001b[0;34m\u001b[0m\u001b[0m\n\u001b[0;32m--> 357\u001b[0;31m             \u001b[0;32mraise\u001b[0m \u001b[0mJSONDecodeError\u001b[0m\u001b[0;34m(\u001b[0m\u001b[0;34m\"Expecting value\"\u001b[0m\u001b[0;34m,\u001b[0m \u001b[0ms\u001b[0m\u001b[0;34m,\u001b[0m \u001b[0merr\u001b[0m\u001b[0;34m.\u001b[0m\u001b[0mvalue\u001b[0m\u001b[0;34m)\u001b[0m \u001b[0;32mfrom\u001b[0m \u001b[0;32mNone\u001b[0m\u001b[0;34m\u001b[0m\u001b[0m\n\u001b[0m\u001b[1;32m    358\u001b[0m         \u001b[0;32mreturn\u001b[0m \u001b[0mobj\u001b[0m\u001b[0;34m,\u001b[0m \u001b[0mend\u001b[0m\u001b[0;34m\u001b[0m\u001b[0m\n",
      "\u001b[0;31mJSONDecodeError\u001b[0m: Expecting value: line 1 column 1 (char 0)"
     ]
    }
   ],
   "source": [
    "#response = requests.get(...)\n",
    "json_data = json.loads(file.text)"
   ]
  },
  {
   "cell_type": "code",
   "execution_count": 62,
   "metadata": {},
   "outputs": [],
   "source": [
    "access_token_story ='EAABhKKutZAZA4BAGVKEmyDsVYkjcaYdDnPGZAJbhwCGxwi1X05ZARx7nxpQh2WZARtV7ydGNnnI890vEFuc0clwXKhH78rBwBJToxfFXXvBLdW6lYMItEyH8Qwl3Fc1lEooBanYI4vyvp4fNtsnjZARQF4HZCyjwgaHYPzzQebl2xjpIZBeYJAZAMBK6bGdpiAfIZD'\n",
    "access_token = 'EAAFYJTPKNhIBABZB7I7NE7FvjxhP9ypZBLCXg36nWsrVKa4VfUSTJaioWCMhEUQp3x8F96LBoQ32uNAVZCw0hSu3kA5eHXjczAbTcJxYbVZAGP9CudUZC9DxspuHJRGL96RCNhPnh70ZAO4asKL642Ek6ItMxxJypGe1X3YFZCfKQOCYAuuy0PibfN4QQZCWxQUZD'\n",
    "\n"
   ]
  },
  {
   "cell_type": "code",
   "execution_count": 11,
   "metadata": {},
   "outputs": [],
   "source": [
    "import os\n",
    "import json\n",
    "import urllib\n",
    "import pprint\n"
   ]
  },
  {
   "cell_type": "code",
   "execution_count": 12,
   "metadata": {},
   "outputs": [
    {
     "ename": "KeyError",
     "evalue": "'ACCESS_TOKEN'",
     "output_type": "error",
     "traceback": [
      "\u001b[0;31m---------------------------------------------------------------------------\u001b[0m",
      "\u001b[0;31mKeyError\u001b[0m                                  Traceback (most recent call last)",
      "\u001b[0;32m<ipython-input-12-fef01dbd2f62>\u001b[0m in \u001b[0;36m<module>\u001b[0;34m()\u001b[0m\n\u001b[0;32m----> 1\u001b[0;31m \u001b[0mACCESS_TOKEN\u001b[0m \u001b[0;34m=\u001b[0m \u001b[0mos\u001b[0m\u001b[0;34m.\u001b[0m\u001b[0menviron\u001b[0m\u001b[0;34m[\u001b[0m\u001b[0;34m'ACCESS_TOKEN'\u001b[0m\u001b[0;34m]\u001b[0m\u001b[0;34m\u001b[0m\u001b[0m\n\u001b[0m",
      "\u001b[0;32m~/anaconda/envs/py36/lib/python3.6/os.py\u001b[0m in \u001b[0;36m__getitem__\u001b[0;34m(self, key)\u001b[0m\n\u001b[1;32m    667\u001b[0m         \u001b[0;32mexcept\u001b[0m \u001b[0mKeyError\u001b[0m\u001b[0;34m:\u001b[0m\u001b[0;34m\u001b[0m\u001b[0m\n\u001b[1;32m    668\u001b[0m             \u001b[0;31m# raise KeyError with the original key value\u001b[0m\u001b[0;34m\u001b[0m\u001b[0;34m\u001b[0m\u001b[0m\n\u001b[0;32m--> 669\u001b[0;31m             \u001b[0;32mraise\u001b[0m \u001b[0mKeyError\u001b[0m\u001b[0;34m(\u001b[0m\u001b[0mkey\u001b[0m\u001b[0;34m)\u001b[0m \u001b[0;32mfrom\u001b[0m \u001b[0;32mNone\u001b[0m\u001b[0;34m\u001b[0m\u001b[0m\n\u001b[0m\u001b[1;32m    670\u001b[0m         \u001b[0;32mreturn\u001b[0m \u001b[0mself\u001b[0m\u001b[0;34m.\u001b[0m\u001b[0mdecodevalue\u001b[0m\u001b[0;34m(\u001b[0m\u001b[0mvalue\u001b[0m\u001b[0;34m)\u001b[0m\u001b[0;34m\u001b[0m\u001b[0m\n\u001b[1;32m    671\u001b[0m \u001b[0;34m\u001b[0m\u001b[0m\n",
      "\u001b[0;31mKeyError\u001b[0m: 'ACCESS_TOKEN'"
     ]
    }
   ],
   "source": [
    "ACCESS_TOKEN = os.environ['ACCESS_TOKEN']\n"
   ]
  },
  {
   "cell_type": "code",
   "execution_count": 139,
   "metadata": {},
   "outputs": [],
   "source": [
    "access_token = 'EAAFYJTPKNhIBAJ3zHP4xfcpbDNAyIoZAGtJssjyq56dvFSZCGbNoh2vZCUrPiHzE7MMKSIMApaMYbTL6Vr7tujgBDlpn1Krhyk1OmEUmVmunHhEnrTZC146lZBgHjCSJyPjb0ZAz6LSubffHeVHWAZA09XQV6weNBA5FXbmitui7V4NBb1qbDSOjsqNulPnu0MZD'\n",
    "\n",
    "\n"
   ]
  },
  {
   "cell_type": "code",
   "execution_count": null,
   "metadata": {},
   "outputs": [],
   "source": [
    "import urllib.parse\n"
   ]
  },
  {
   "cell_type": "code",
   "execution_count": 150,
   "metadata": {},
   "outputs": [],
   "source": [
    "# get GROUPS\n",
    "def get_user_groups():\n",
    "    \n",
    "    host = \"https://graph.facebook.com\"\n",
    "    path = \"/me/groups\"\n",
    "    params = urllib.parse.urlencode({\"access_token\": access_token})\n",
    "    url = \"{host}{path}?{params}\".format(host=host, path=path, params=params)\n",
    "\n",
    "    print(url)\n",
    "    resp = urllib.request.urlopen(url).read()\n",
    "    facebook_groups = json.loads(resp)\n",
    "\n",
    "    # display the result\n",
    "    pprint.pprint(facebook_groups)\n",
    "    \n",
    " \n",
    "    return facebook_groups\n",
    "\n",
    "def get_group_id(group_name):\n",
    "    #Surgeons to Leader: A Sample Group for F8\n",
    "    host = \"https://graph.facebook.com\"\n",
    "    path = \"/me/groups\"\n",
    "    params = urllib.parse.urlencode({\"access_token\": access_token})\n",
    "    url = \"{host}{path}?{params}\".format(host=host, path=path, params=params)\n",
    "\n",
    "    print(url)\n",
    "    resp = urllib.request.urlopen(url).read()\n",
    "    facebook_groups = json.loads(resp)\n",
    "\n",
    "    # display the result\n",
    "    pprint.pprint(facebook_groups)\n",
    "    for name in facebook_groups[\"data\"]:\n",
    "        print (name[\"name\"])\n",
    "        if name[\"name\"] == group_name:\n",
    "            group_id = name[\"id\"]\n",
    "    return group_id\n",
    "# get GROUPS\n",
    "def get_info_from_group(group_id, fields):\n",
    "    host = \"https://graph.facebook.com\"\n",
    "    path = \"/me/groups\"\n",
    "\n",
    "    params = urllib.parse.urlencode({\"access_token\": access_token, \"fields\": fields})\n",
    "    url = \"{host}{path}?{params}\".format(host=host, path=path, params=params)\n",
    "    print(url)\n",
    "    resp = urllib.request.urlopen(url).read()\n",
    "    # convert the returned JSON string to a Python datatype \n",
    "    info = json.loads(resp)\n",
    "\n",
    "    # display the result\n",
    "    pprint.pprint(info)\n",
    "    return info\n",
    "\n",
    "def post_in_group(group_id, message):\n",
    "    host = \"https://graph.facebook.com/v2.12/\"\n",
    "    path = group_id + '/feed/'\n",
    "    #params = urllib.urlencode({\"access_token\": access_token})\n",
    "    params = urllib.parse.urlencode({\"access_token\": access_token, \"message\": message})\n",
    "\n",
    "    url = \"{host}{path}?{params}\".format(host=host, path=path, params=params)\n",
    "    print('url', url)\n",
    "\n",
    "    post = requests.post(url)\n",
    "    info = json.loads(post)\n",
    "\n",
    "    # display the result\n",
    "    pprint.pprint(info)\n",
    "    return info\n",
    "\n",
    "def get_page_access_token(access_token, page_name):\n",
    "    post_access = ''\n",
    "    host = \"https://graph.facebook.com\"\n",
    "    path = \"/me/accounts/\"\n",
    "    #params = urllib.urlencode({\"access_token\": access_token})\n",
    "    params = urllib.parse.urlencode({\"access_token\": access_token})\n",
    "    url = \"{host}{path}?{params}\".format(host=host, path=path, params=params)\n",
    "    print('url', url)\n",
    "    # open the URL and read the response\n",
    "    #resp = urllib.urlopen(url).read()\n",
    "    resp = urllib.request.urlopen(url).read()\n",
    "    # convert the returned JSON string to a Python datatype \n",
    "    resp = json.loads(resp)\n",
    "\n",
    "    # display the result\n",
    "    pprint.pprint(resp)\n",
    "    for name in resp[\"data\"]:\n",
    "        print (name[\"name\"])\n",
    "        if name[\"name\"] == page_name:\n",
    "            post_access = name[\"access_token\"]\n",
    "\n",
    "    return post_access\n",
    "   "
   ]
  },
  {
   "cell_type": "code",
   "execution_count": 149,
   "metadata": {},
   "outputs": [
    {
     "name": "stdout",
     "output_type": "stream",
     "text": [
      "{'name': 'Surgeons to Leader: A Sample Group for F8', 'privacy': 'CLOSED', 'id': '166712014014887'}\n",
      "{'name': 'Symmetry Labs', 'privacy': 'CLOSED', 'id': '124293831511657'}\n",
      "{'name': '2014 Sigma Chi Derby Days - Kappa Alpha Theta', 'privacy': 'OPEN', 'id': '413102488792918'}\n",
      "{'name': 'Arrow Head/Big Bear Memorial Day Weekend', 'privacy': 'SECRET', 'id': '238552512917892'}\n",
      "{'name': 'Underground Soccer League', 'privacy': 'OPEN', 'id': '180597181975197'}\n",
      "{'name': 'NOT hanging out at indie spots.', 'privacy': 'OPEN', 'id': '121083237923311'}\n"
     ]
    }
   ],
   "source": [
    "for name in test1['data']:\n",
    "    print (name['name'])"
   ]
  },
  {
   "cell_type": "code",
   "execution_count": 147,
   "metadata": {
    "scrolled": true
   },
   "outputs": [
    {
     "name": "stdout",
     "output_type": "stream",
     "text": [
      "https://graph.facebook.com/me/groups?access_token=EAAFYJTPKNhIBAJ3zHP4xfcpbDNAyIoZAGtJssjyq56dvFSZCGbNoh2vZCUrPiHzE7MMKSIMApaMYbTL6Vr7tujgBDlpn1Krhyk1OmEUmVmunHhEnrTZC146lZBgHjCSJyPjb0ZAz6LSubffHeVHWAZA09XQV6weNBA5FXbmitui7V4NBb1qbDSOjsqNulPnu0MZD\n",
      "{'data': [{'id': '166712014014887',\n",
      "           'name': 'Surgeons to Leader: A Sample Group for F8',\n",
      "           'privacy': 'CLOSED'},\n",
      "          {'id': '124293831511657',\n",
      "           'name': 'Symmetry Labs',\n",
      "           'privacy': 'CLOSED'},\n",
      "          {'id': '413102488792918',\n",
      "           'name': '2014 Sigma Chi Derby Days - Kappa Alpha Theta',\n",
      "           'privacy': 'OPEN'},\n",
      "          {'id': '238552512917892',\n",
      "           'name': 'Arrow Head/Big Bear Memorial Day Weekend',\n",
      "           'privacy': 'SECRET'},\n",
      "          {'id': '180597181975197',\n",
      "           'name': 'Underground Soccer League',\n",
      "           'privacy': 'OPEN'},\n",
      "          {'id': '121083237923311',\n",
      "           'name': 'NOT hanging out at indie spots.',\n",
      "           'privacy': 'OPEN'}],\n",
      " 'paging': {'cursors': {'after': 'QVFIUllmYjR5a3RsRzRCelo5U0dSZAjBpQzNVM1R2U2EwQXEzSHlnbTRpVUVPOUNQWUdaQlh1SW52UjBmSWZAKTUFHWjVQemtlcEFPcE5oQ0MzbDJ1d1pKd1l3',\n",
      "                        'before': 'QVFIUkJKcjloeHNFU011ZAjZAFLUFLbDhyQ3NYZAmZALNHdRNnhoWlNiMWtSMjVvX1liY1FMM0xNb25WVDNYdjIxOHc5X1g5N2phUFlxdXNyeFJReHZAzVEJ4SFRn'}}}\n"
     ]
    }
   ],
   "source": [
    "test1 = get_user_groups()"
   ]
  },
  {
   "cell_type": "code",
   "execution_count": 145,
   "metadata": {},
   "outputs": [
    {
     "data": {
      "text/plain": [
       "{'data': [{'feed': {'data': [{'id': '124293831511657_124293834844990',\n",
       "      'updated_time': '2017-07-10T17:59:36+0000'}],\n",
       "    'paging': {'next': 'https://graph.facebook.com/v3.0/124293831511657/feed?access_token=EAABhKKutZAZA4BAGVKEmyDsVYkjcaYdDnPGZAJbhwCGxwi1X05ZARx7nxpQh2WZARtV7ydGNnnI890vEFuc0clwXKhH78rBwBJToxfFXXvBLdW6lYMItEyH8Qwl3Fc1lEooBanYI4vyvp4fNtsnjZARQF4HZCyjwgaHYPzzQebl2xjpIZBeYJAZAMBK6bGdpiAfIZD&limit=25&until=1499709576&__paging_token=enc_AdB7zlZA6E5n6dqtTP7Dbo6HUZA6RcZAkMYBkvwfSk74nlgKkD7UideggWTHZCkZBy1uhEDWdZA7YIMQoCJLD2xUmlFhjPCOcnL21sYeecW3YOhCs45QZDZD',\n",
       "     'previous': 'https://graph.facebook.com/v3.0/124293831511657/feed?since=1499709576&access_token=EAABhKKutZAZA4BAGVKEmyDsVYkjcaYdDnPGZAJbhwCGxwi1X05ZARx7nxpQh2WZARtV7ydGNnnI890vEFuc0clwXKhH78rBwBJToxfFXXvBLdW6lYMItEyH8Qwl3Fc1lEooBanYI4vyvp4fNtsnjZARQF4HZCyjwgaHYPzzQebl2xjpIZBeYJAZAMBK6bGdpiAfIZD&limit=25&__paging_token=enc_AdB7zlZA6E5n6dqtTP7Dbo6HUZA6RcZAkMYBkvwfSk74nlgKkD7UideggWTHZCkZBy1uhEDWdZA7YIMQoCJLD2xUmlFhjPCOcnL21sYeecW3YOhCs45QZDZD&__previous=1'}},\n",
       "   'id': '124293831511657'},\n",
       "  {'feed': {'data': [{'id': '413102488792918_420564814713352',\n",
       "      'message': 'Hey there Theta!!\\n\\nOur Derby Days Carnival last Friday was awesome—we had over 300 people in attendance! Much thanks to everyone who came out, and thanks to everyone who made our very first Derby Days (in a long time) a huge success! We ended up raising over $6,000 for the Huntsman Cancer Institute!\\n\\nWe have received our new shipment of 300 Derby Days tank tops, and will continue to sell them at $15 until we run out. We also are still selling Derby Days snapbacks for $10! If you signed up on our online order sheet, you are guaranteed a tank top! We will be coming around to each sorority tomorrow (Wednesday) during dinner time, and selling tank tops and snapbacks, give your money to your philanthropy chair to ensure you get a tank top!\\n\\nHere is the link to the tank top order sheet:\\n\\nhttps://docs.google.com/forms/d/1rXZlG5VOCOgP_4kcbMwWko7dkWgQ7wm-kvEwT1Rqwrc/viewform\\n\\nAnd one to the snapback order sheet:\\n\\nhttps://docs.google.com/forms/d/1THzWycQmLoMlIGKPOnzXBaGfbWz2KeNCQuGBs3iS9yk/viewform \\n\\nLastly, all of us over here at Sigma Chi would just like to thank all the girls of Sorority Row for helping us in our philanthropic endeavors. YEEEEEEWWWW!',\n",
       "      'updated_time': '2014-02-04T23:10:38+0000'},\n",
       "     {'id': '413102488792918_415888981847602',\n",
       "      'message': \"Lovely Ladies of Theta,\\nToday is the final day of Derby Days! Be at sunset rec today from 1-5 for our Sigma Chi carnival, and to prove to everyone that Theta is top of the row! Get stoked. Let's win this thing.\",\n",
       "      'updated_time': '2014-01-24T18:41:04+0000'},\n",
       "     {'id': '413102488792918_415591801877320',\n",
       "      'message': \"Here's the new Derby Days information. Only two more days to go. Let's kill it with those donations and raise some money for the kids!\",\n",
       "      'updated_time': '2014-01-23T19:24:18+0000'},\n",
       "     {'id': '413102488792918_415405441895956',\n",
       "      'message': 'Hey there THETA! \\n\\nSO I realize there has a little miscommunication between the team leaders (myself included) and you ladies, especially when it comes to donating. Raising money for cancer research is absolutely the #1 goal of the event, but we want to make sure that THETA wins at doing that!\\n\\nClick the link at the bottom of this post to visit your UCLA Theta Team Page for the \"Derby Challenge\", the site dedicated to raising money for the national Derby Days event. You can easily sign up on the right side by clicking the \"Join Now\" button, or if you would like to directly donate (and skip the step of making a log in page), click the \"Donate Now\" button and put your money towards the Huntsman Cancer Institute!!!\\n\\nDonating as little as $20 makes a HUGE difference, and it would mean the world to Huntsman and our chapter if you would take the time to do so.\\n\\nLET\\'S WIN THIS THING.\\n\\n-Your Team Captains',\n",
       "      'updated_time': '2014-01-23T05:29:41+0000'},\n",
       "     {'id': '413102488792918_415380975231736',\n",
       "      'updated_time': '2014-01-23T01:28:26+0000'},\n",
       "     {'id': '413102488792918_415084518594715',\n",
       "      'message': \"Here's the updated information for Derby Days this week. Lemme know if ya'll have any questions!\",\n",
       "      'updated_time': '2014-01-22T18:44:22+0000'},\n",
       "     {'id': '413102488792918_414821948620972',\n",
       "      'message': \"hi theta. hope everyone enjoyed their holiday weekend. I didn't realize this earlier but you girls never received our second info sheet that was sent out Saturday (blame your team captains). Take a look at it theres some quality information in there. Anyways here it is, and we'll have another one coming up shortly as Derby Days officially starts tomorrow morning! Get stoked!\",\n",
       "      'updated_time': '2014-01-21T05:13:29+0000'},\n",
       "     {'id': '413102488792918_413362028766964',\n",
       "      'message': 'hi. laura here. can someone please clarify what we need to do to win... because I want to win.',\n",
       "      'updated_time': '2014-01-16T22:33:34+0000'},\n",
       "     {'id': '413102488792918_413163088786858',\n",
       "      'message': \"also here's the tank top design. we can spray paint theta on the back of em if you'd like. its fabric spray paint so it wont bleed.\",\n",
       "      'updated_time': '2014-01-16T00:24:09+0000'},\n",
       "     {'id': '413102488792918_413162048786962',\n",
       "      'message': \"whats up everyone! first off I just wanted to say I'm stoked for the raid tonight! attached is a 1 page Derby Days info sheet that'll explain a little bit more about everything that's going on over the next week and a half. Good luck!\",\n",
       "      'updated_time': '2014-01-16T00:21:11+0000'},\n",
       "     {'id': '413102488792918_413141828788984',\n",
       "      'message': \"Check it people! We all know who's gonna win this thing.....\",\n",
       "      'updated_time': '2014-01-15T22:34:56+0000'},\n",
       "     {'id': '413102488792918_413128222123678',\n",
       "      'message': 'YES',\n",
       "      'updated_time': '2014-01-15T21:32:27+0000'},\n",
       "     {'id': '413102488792918_413110202125480',\n",
       "      'updated_time': '2014-01-15T20:11:52+0000'},\n",
       "     {'id': '413102488792918_413104852126015',\n",
       "      'message': 'Join the cause! Go to this page to donate and support the Huntsman Cancer Institute.\\n\\n',\n",
       "      'updated_time': '2014-01-15T19:48:19+0000'},\n",
       "     {'id': '413102488792918_413103628792804',\n",
       "      'message': \"Put your derby days tank top orders in here and we'll get em to you stat!\\n\\nhttps://docs.google.com/forms/d/1rXZlG5VOCOgP_4kcbMwWko7dkWgQ7wm-kvEwT1Rqwrc/viewform\",\n",
       "      'updated_time': '2014-01-15T19:41:12+0000'},\n",
       "     {'id': '413102488792918_413102942126206',\n",
       "      'message': \"Get stoked! Invite Thetas to this group - you can order shirts and get derby days updates here. Let's win this thing!\",\n",
       "      'updated_time': '2014-01-15T19:37:58+0000'},\n",
       "     {'id': '413102488792918_413102495459584',\n",
       "      'updated_time': '2014-01-15T19:36:07+0000'}],\n",
       "    'paging': {'next': 'https://graph.facebook.com/v3.0/413102488792918/feed?access_token=EAABhKKutZAZA4BAGVKEmyDsVYkjcaYdDnPGZAJbhwCGxwi1X05ZARx7nxpQh2WZARtV7ydGNnnI890vEFuc0clwXKhH78rBwBJToxfFXXvBLdW6lYMItEyH8Qwl3Fc1lEooBanYI4vyvp4fNtsnjZARQF4HZCyjwgaHYPzzQebl2xjpIZBeYJAZAMBK6bGdpiAfIZD&limit=25&until=1389814567&__paging_token=enc_AdAmd7wdYDF12ZBjGWLjNcyViy3NsyMmTXNWKyZBar37ZCVUQFHXjIAvmnSYEYKIle0Q1mToZBx9x8qIVyrcn8KoPVmhUOcznJgLw5e1AZCkpvm2pZAgZDZD',\n",
       "     'previous': 'https://graph.facebook.com/v3.0/413102488792918/feed?since=1391555438&access_token=EAABhKKutZAZA4BAGVKEmyDsVYkjcaYdDnPGZAJbhwCGxwi1X05ZARx7nxpQh2WZARtV7ydGNnnI890vEFuc0clwXKhH78rBwBJToxfFXXvBLdW6lYMItEyH8Qwl3Fc1lEooBanYI4vyvp4fNtsnjZARQF4HZCyjwgaHYPzzQebl2xjpIZBeYJAZAMBK6bGdpiAfIZD&limit=25&__paging_token=enc_AdCkyiqxDmfBTO5h7Cux3hcNnUYsCl0ixYbuv4U7PIhWNzjZBQoldXKHPmsgH2hMb9Hfekoks2qZBCTRnPhnRqgLaPboIqME1ez2KCwhSmgY7c6QZDZD&__previous=1'}},\n",
       "   'id': '413102488792918'},\n",
       "  {'feed': {'data': [{'id': '238552512917892_278437335596076',\n",
       "      'message': \"hey guys, sorry to post this on this page but last weekend a kid from my area went missing at the chico float. he was last seen with a group of people from ucla so we're trying to figure out who these people are to see if they know anything about where he might be. if you know anyone from ucla who was at the float or have any information pleaseee let me know or contact the chico police. and spread the word!\\nthanks so much.\\n\",\n",
       "      'updated_time': '2012-09-05T17:55:34+0000'},\n",
       "     {'id': '238552512917892_260624834043993',\n",
       "      'message': 'so....anyone down for big bear round 2 during c sesh?',\n",
       "      'updated_time': '2012-07-06T07:10:59+0000'},\n",
       "     {'id': '238552512917892_251925031580640',\n",
       "      'message': 'Holy crap you guys did we take enough pics',\n",
       "      'updated_time': '2012-06-19T19:33:13+0000'},\n",
       "     {'id': '238552512917892_252826078157202',\n",
       "      'message': 'its a requirement we find this\\n',\n",
       "      'updated_time': '2012-06-18T23:40:58+0000'},\n",
       "     {'id': '238552512917892_251390551634088',\n",
       "      'message': 'preston. you have now been re-added.',\n",
       "      'updated_time': '2012-06-16T02:57:21+0000'},\n",
       "     {'id': '238552512917892_249158341857309',\n",
       "      'message': 'Yo preston has officially been removed from the group. #adminswag',\n",
       "      'updated_time': '2012-06-15T17:11:33+0000'},\n",
       "     {'id': '238552512917892_250646031708540',\n",
       "      'message': \"If you're coming to the house to pregame for the undie run try to bring 10 to help finish paying for the cabin. None of it is going toward damages, we're still short from cabin payment.\",\n",
       "      'updated_time': '2012-06-14T05:02:16+0000'},\n",
       "     {'id': '238552512917892_250565795049897',\n",
       "      'updated_time': '2012-06-14T04:57:19+0000'},\n",
       "     {'id': '238552512917892_250565755049901',\n",
       "      'updated_time': '2012-06-14T04:01:10+0000'},\n",
       "     {'id': '238552512917892_250565768383233',\n",
       "      'updated_time': '2012-06-14T02:08:39+0000'},\n",
       "     {'id': '238552512917892_250565645049912',\n",
       "      'updated_time': '2012-06-14T01:08:23+0000'},\n",
       "     {'id': '238552512917892_250565595049917',\n",
       "      'updated_time': '2012-06-14T01:06:16+0000'},\n",
       "     {'id': '238552512917892_248257028614107',\n",
       "      'message': \"just a quick little preview for the album that'll make a debut soon\",\n",
       "      'updated_time': '2012-06-11T01:35:30+0000'},\n",
       "     {'id': '238552512917892_248297988610011',\n",
       "      'message': \"Yo so as of now we haven't heard back how much the damages are gonna be. But as for the actual cabin rental hicks is still down 400 bucks. Everyone's gonna have to pay an extra 10 bucks to so hicks doesnt end up losing money. Just try to get the money to hicks kory cameron or me. Yrl 2nd floor east Asian library I'll be there till Wednesday\",\n",
       "      'updated_time': '2012-06-09T02:24:33+0000'},\n",
       "     {'id': '238552512917892_242937735812703',\n",
       "      'message': \"I found someone's Avveno lotion in my bag…whose is it?\",\n",
       "      'updated_time': '2012-05-31T03:35:17+0000'},\n",
       "     {'id': '238552512917892_243593422413801',\n",
       "      'updated_time': '2012-05-31T02:11:03+0000'},\n",
       "     {'id': '238552512917892_243216139118196',\n",
       "      'message': 'i have a pair of ray bans(possibly fake) , a pair of cheap girl glasses that are made in china and a male dark sweat shirt.... let me know if they are yours',\n",
       "      'updated_time': '2012-05-30T21:56:02+0000'},\n",
       "     {'id': '238552512917892_242690715837405',\n",
       "      'message': 'like a boss',\n",
       "      'updated_time': '2012-05-29T14:26:52+0000'},\n",
       "     {'id': '238552512917892_242481489191661',\n",
       "      'message': 'Yo I just got an email back from the place and they were super nice and it  seems like were chillen',\n",
       "      'updated_time': '2012-05-29T06:15:49+0000'},\n",
       "     {'id': '238552512917892_242468365859640',\n",
       "      'message': \"What's good with those gold chains though. #2chainz #moneyteam\",\n",
       "      'updated_time': '2012-05-28T23:11:52+0000'},\n",
       "     {'id': '238552512917892_242465562526587',\n",
       "      'message': \"yo homies. i think i may have grabbed someone else's brown blanket and maybe someone has mine?? it's super soft...i don't know anything else about it. lemmeeeee know\",\n",
       "      'updated_time': '2012-05-28T22:12:02+0000'},\n",
       "     {'id': '238552512917892_241333259306484',\n",
       "      'message': '\"you shwin some, you shwoose some\"- kola',\n",
       "      'updated_time': '2012-05-26T18:34:26+0000'},\n",
       "     {'id': '238552512917892_240931389346671',\n",
       "      'message': \"Yoyoyoyoyo I've made a list of the people who haven't paid yet. If you haven't try to get it to Cameron or someone who's coming up tonight. If you're on this list and have already paid let me know.\\nSchwin\\nCameron\\nCamille\\nCourtney mccadden\\nCraig\\nDylan\\nGarrett \\n\\nLuca\\nStephen \\nAlex McKenna \\nAlice mintz\\nAshton\\nCassidy\\nKaylee\",\n",
       "      'updated_time': '2012-05-26T02:43:07+0000'},\n",
       "     {'id': '238552512917892_240999206006556',\n",
       "      'message': 'GET FUCKING EXCITED! THIS IS SUCH A SICK HOUSE!!!!!',\n",
       "      'updated_time': '2012-05-26T02:01:58+0000'},\n",
       "     {'id': '238552512917892_240440836062393',\n",
       "      'updated_time': '2012-05-26T00:57:32+0000'}],\n",
       "    'paging': {'next': 'https://graph.facebook.com/v3.0/238552512917892/feed?access_token=EAABhKKutZAZA4BAGVKEmyDsVYkjcaYdDnPGZAJbhwCGxwi1X05ZARx7nxpQh2WZARtV7ydGNnnI890vEFuc0clwXKhH78rBwBJToxfFXXvBLdW6lYMItEyH8Qwl3Fc1lEooBanYI4vyvp4fNtsnjZARQF4HZCyjwgaHYPzzQebl2xjpIZBeYJAZAMBK6bGdpiAfIZD&limit=25&until=1337993852&__paging_token=enc_AdBRzBiZAd89h7PL202GUWfyd1d40VnLcFiIblGnRhoBWuWH1iPowfruA8XXfbAXQ9VkBKgShoR9mSk0KCkwk2wS5jI93DsTdKQsFuVhxM9aZBKgZDZD',\n",
       "     'previous': 'https://graph.facebook.com/v3.0/238552512917892/feed?since=1346867734&access_token=EAABhKKutZAZA4BAGVKEmyDsVYkjcaYdDnPGZAJbhwCGxwi1X05ZARx7nxpQh2WZARtV7ydGNnnI890vEFuc0clwXKhH78rBwBJToxfFXXvBLdW6lYMItEyH8Qwl3Fc1lEooBanYI4vyvp4fNtsnjZARQF4HZCyjwgaHYPzzQebl2xjpIZBeYJAZAMBK6bGdpiAfIZD&limit=25&__paging_token=enc_AdCiB42DA9NnY5CErOs0UI6EccBcn4DTZAIuPUtPFpmSZC0MvkOKq1ZAByah2MAwm9BmDiHDZCxux92tLzWHxRQvNte4EcFUixQUiCdg7l1XZAtIO4AZDZD&__previous=1'}},\n",
       "   'id': '238552512917892'},\n",
       "  {'feed': {'data': [{'id': '180597181975197_233061650062083',\n",
       "      'message': \"Who's playing this Sunday?\",\n",
       "      'updated_time': '2011-07-21T23:58:39+0000'},\n",
       "     {'id': '180597181975197_201988436502738',\n",
       "      'message': 'Someone should start UG Baseball again.',\n",
       "      'updated_time': '2011-05-03T02:00:25+0000'},\n",
       "     {'id': '180597181975197_194807983887450',\n",
       "      'message': 'zacks team vs. westwood skylarks at 1 tomorrow at del norte',\n",
       "      'updated_time': '2011-03-13T19:06:02+0000'},\n",
       "     {'id': '180597181975197_191589077542674',\n",
       "      'message': \"MORE NEW RULES......FROM NOW ON.......\\nIF I schedule your team to play, if your team is not ready 20 minutes after the game is supposed to start, you will be disqualified, and the other team will win. \\nIf your team can't make it, it is up to the captains to reschedule.\\nI think our new field is gonna be del norte.  \\ntoday, Real Bernardo replayed CM Wave as a rematch, and Blaiziken played Zack's team, which i still need a name for.\\nCM wave vs Real bernardo 5-4 CM (Iloveashley in golden goal) \\nBlaiziken vs. Zack's 9-8 Zack's team\\nLeague standings\\nCM Wave 2-1, 5 points \\nReal Bernardo 1-1 4 points\\nZack's team 1-1 3 points\\nFC Lax (inactive) 1-0 3 points\\nFC Blaiziken 0-1 0 points\\nWestwood skylarks 0-2 0 points\\nSean's something 0-0 0 points\\nLeague Goals\\nITS up to your team to report this to me\\nMike Monis 5\\nGreg Moisive 5\\nJustin Moreno 3\\nCam Cox 3\\nLouw Sch. 2\\nAaron Oppenheimer 1\\nSteve Gilmore 1\\nKevin Rodrizguez 1\\nLOST AND FOUND. theres still stuff here.\\nthanks guys\",\n",
       "      'updated_time': '2011-03-13T09:54:58+0000'},\n",
       "     {'id': '180597181975197_194734097228172',\n",
       "      'message': 'whats the schedule for this week',\n",
       "      'updated_time': '2011-03-13T00:53:19+0000'},\n",
       "     {'id': '180597181975197_194049793963269',\n",
       "      'message': 'CM Wave vs Aarons team this sunday !!!!!!!!!!!!!!!!',\n",
       "      'updated_time': '2011-03-10T06:08:04+0000'},\n",
       "     {'id': '180597181975197_193247040710211',\n",
       "      'message': 'Greg Moisive 10\\nMike Monis 9\\nJustin Moreno 5\\nAaron Oppenheimer 5\\nLouw Sch. 4\\nCam Cox 3\\nMarcos 2\\nSteve 1\\nKevin 1',\n",
       "      'updated_time': '2011-03-08T00:25:33+0000'},\n",
       "     {'id': '180597181975197_193245280710387',\n",
       "      'message': \"today in underground soccer.....\\nCM Wave vs. Blaizikens 11-5\\nReal Bernardo vs. Zack's team 8-5\\nLeague standings:\\nCM Wave 3-1 8 points\\nReal Bernardo 2-1 7 Points \\nZack's Team 1-2 3 points\\nFC Lax (inactive) 1-0 3 points\\nFC Blaiziken 0-1 0 points \\nWestwood Skylarks 0-2 0 points\\nSean's team 0-0 0 points\\nLeague Goals:\\nI dont know any others team's stats on this so give them to me.\\nMike Monis 9\\nAaron Oppenheimer 5\\nSteve Gilmore 1\\nKevin Rodriguez 1\\nstill some stuff in lost and found.\",\n",
       "      'updated_time': '2011-03-07T05:25:00+0000'},\n",
       "     {'id': '180597181975197_193272450707670',\n",
       "      'message': 'Greg Moisive 10\\nMike Monis 9\\nZack Mayahi 9\\nJustin Moreno 5\\nAaron Oppenheimer 5\\nLouw Sch. 4\\nCam Cox 3\\nMarcos 2\\nErnesto 2\\nSteve 1\\nKevin 1\\nRyan 1',\n",
       "      'updated_time': '2011-03-07T03:34:54+0000'},\n",
       "     {'id': '180597181975197_191524694215779',\n",
       "      'message': \"sorry. one more time, real bernardo is playing zack's team at two. Blaizikens are welcome to come at 3 for a pick up game.\",\n",
       "      'updated_time': '2011-02-27T20:12:46+0000'},\n",
       "     {'id': '180597181975197_191499877551594',\n",
       "      'message': 'We are playing at del norte. Seans team vs cm wave at 1. Real bernardo vs. Blaizikens at 2',\n",
       "      'updated_time': '2011-02-27T19:02:55+0000'},\n",
       "     {'id': '180597181975197_191278034240445',\n",
       "      'message': \"first things first. we've added two teams. Sean hofmockel's and FC Blaiziken, ronnie's team. so we have a total of five teams.\",\n",
       "      'updated_time': '2011-02-27T04:10:57+0000'},\n",
       "     {'id': '180597181975197_191289837572598',\n",
       "      'message': 'Get wRECked today at the tropics basketball game @ 115! Check it out at RB Rec Center!',\n",
       "      'updated_time': '2011-02-26T20:18:45+0000'},\n",
       "     {'id': '180597181975197_191287614239487',\n",
       "      'message': 'oh yeah and our team name is now Westwood Skylarks. No longer the Skylark Dabs because of complaints... </3.',\n",
       "      'updated_time': '2011-02-26T20:06:02+0000'},\n",
       "     {'id': '180597181975197_191267950908120',\n",
       "      'message': 'are we playing tomorrow?',\n",
       "      'updated_time': '2011-02-26T19:18:04+0000'},\n",
       "     {'id': '180597181975197_189447791090136',\n",
       "      'message': \"With the recent drop of FCL, I'm now a free agent. Open to negotiations from prospective teams.\",\n",
       "      'updated_time': '2011-02-23T03:32:11+0000'},\n",
       "     {'id': '180597181975197_189907254377523',\n",
       "      'message': 'If anyone found some nike white and blue soccer shoes(not cleats) please tell me.',\n",
       "      'updated_time': '2011-02-22T03:17:35+0000'},\n",
       "     {'id': '180597181975197_190158944352354',\n",
       "      'updated_time': '2011-02-22T03:11:14+0000'},\n",
       "     {'id': '180597181975197_189879191046996',\n",
       "      'message': 'no there not steve. and the FOREST GREEN shirt is mine',\n",
       "      'updated_time': '2011-02-21T00:47:49+0000'},\n",
       "     {'id': '180597181975197_189878834380365',\n",
       "      'message': 'more lost and found. lighter-than-forest-green long sleeve shirt, rb wrestling shorts, RB senior shirt. Honestly how hard is it to take your clothes home.',\n",
       "      'updated_time': '2011-02-21T00:31:54+0000'},\n",
       "     {'id': '180597181975197_189357924432456',\n",
       "      'message': \"hey everyone we're gonna try to play on sunday again at 1. team captains let me know if your team can make it.\",\n",
       "      'updated_time': '2011-02-20T03:12:56+0000'},\n",
       "     {'id': '180597181975197_189448264423422',\n",
       "      'message': 'hey corey! play for dabs! we prolly cant have jake or ryan anyways since they are varsity',\n",
       "      'updated_time': '2011-02-19T06:40:49+0000'},\n",
       "     {'id': '180597181975197_189391951095720',\n",
       "      'message': 'FCL is out. Cant risk any injuries :(',\n",
       "      'updated_time': '2011-02-18T23:36:16+0000'},\n",
       "     {'id': '180597181975197_189376361097279',\n",
       "      'message': \"lost and found. I've got a large DC shirt, a XL black shirt, and a waimea bay shirt. let me know if any of these are yours. i am not your mom, i shouldn't have to pick up leftover clothes.\",\n",
       "      'updated_time': '2011-02-18T22:57:13+0000'},\n",
       "     {'id': '180597181975197_188182054550043',\n",
       "      'message': 'STANDINGS\\nReal Bernardo v. CM Wave- Real Bernardo W 4-2\\nGoals: \\nGeoff Bogan: 1\\nJustin Moreno: 1\\nMike Monis: 2 (1 on pk)\\nKevin Rodriguez: 1\\nSteve Gilmore: 1\\nFC Lax v. DABs- FC Lax W 3-2 in Golden Goal.\\nGoals:\\nMax Lai: 2\\nDan Meggers: 1\\nDimitri Voytilla: 1\\nT eck Five the boss: 1 to win in golden goal\\n\\nReal Bernardo: 3 points\\nFC Lax: 3 points\\nCM Wave: 0 points\\nDABS: 0 points\\nokay, here\\'s the deal. \\n\\nwe\\'re setting up a league, just like underground baseball. \\n\\nonly join the group if you\\'re committed to playing. games will most likely be on weekdays, maybe monday nights. we\\'ll try to make a schedule. \\n\\nteams will be 8 v 8, and after they\\'re established, you\\'ll be responsible for having your own colors. \\n\\nif i left anything out, lemme know. we\\'re trying to set up the teams as soon as possible. \\n\\nalright. \\nNEW RULES.\\n30 Minute halves, if its a tie after that, we play golden goal with 5 minute halves, then it goes to pk\\'s.\\n3 points for a win.\\nif you win on pk\\'s you get two, the losing team gets 1.\\nDarien will ref some games, but if he doesnt players will call their own fouls.\\nOFFSIDES.\\nAs long as players are mindful of it, it can happen, just no blatent cherry picking.\\nNO VARSITY SOCCER PLAYERS ON ANY TEAM.\\nif we let one in, we\\'ll have to let all of em in, and its just unfair to other teams. \\nNO CLEATS.\\nWe wanna keep teams no bigger than 10-12, if you have any more that that try to split it into two teams. \\nUNIFORMS.\\nEveryone on the team has to wear the same colored top, www.eastbay.com has 8$ soccer jerseys.\\n\\nREMEMBER. this league is supposed to be fun, so get coaches if you want, but mainly have fun with it, dont get too competitive or physical during matches. \\n\\nIf anyone wants to form another team, just talk to cam or me.\\nfrom cam, \"You have to keep your shirt on at all times, no matter how much of a douche you are\"',\n",
       "      'updated_time': '2011-02-14T02:10:26+0000'}],\n",
       "    'paging': {'next': 'https://graph.facebook.com/v3.0/180597181975197/feed?access_token=EAABhKKutZAZA4BAGVKEmyDsVYkjcaYdDnPGZAJbhwCGxwi1X05ZARx7nxpQh2WZARtV7ydGNnnI890vEFuc0clwXKhH78rBwBJToxfFXXvBLdW6lYMItEyH8Qwl3Fc1lEooBanYI4vyvp4fNtsnjZARQF4HZCyjwgaHYPzzQebl2xjpIZBeYJAZAMBK6bGdpiAfIZD&limit=25&until=1297649426&__paging_token=enc_AdClgEBhVgj72IryZCdyNxTfhmLp2ZC0H4mWZA8Cz584G1efhgGWpQZBh7awkLlhClPA84pvMYwu5ZBrLK6V4kTdQ0D6OxySKtPbxqfBLsTiHAiztnAZDZD',\n",
       "     'previous': 'https://graph.facebook.com/v3.0/180597181975197/feed?since=1311292719&access_token=EAABhKKutZAZA4BAGVKEmyDsVYkjcaYdDnPGZAJbhwCGxwi1X05ZARx7nxpQh2WZARtV7ydGNnnI890vEFuc0clwXKhH78rBwBJToxfFXXvBLdW6lYMItEyH8Qwl3Fc1lEooBanYI4vyvp4fNtsnjZARQF4HZCyjwgaHYPzzQebl2xjpIZBeYJAZAMBK6bGdpiAfIZD&limit=25&__paging_token=enc_AdD6iQVbfIZBnDR9CoLRg2rcnY3MpO7U6yssjOVWzaN6XXZBjYhEaJsbtFYqHbWqxI3fTRtIrGNUIsZAU4gfa2jhBW5KjqDG3TmU7X51DF4bsUJogZDZD&__previous=1'}},\n",
       "   'id': '180597181975197'},\n",
       "  {'feed': {'data': [{'id': '121083237923311_347116831986616',\n",
       "      'message': 'haha its so funny that aly christina and tyler joined because they so totally DO hang out at indie spots. lets be serious, indie might be the stupidest thing to hit this nation',\n",
       "      'updated_time': '2010-05-21T20:21:58+0000'}],\n",
       "    'paging': {'next': 'https://graph.facebook.com/v3.0/121083237923311/feed?access_token=EAABhKKutZAZA4BAGVKEmyDsVYkjcaYdDnPGZAJbhwCGxwi1X05ZARx7nxpQh2WZARtV7ydGNnnI890vEFuc0clwXKhH78rBwBJToxfFXXvBLdW6lYMItEyH8Qwl3Fc1lEooBanYI4vyvp4fNtsnjZARQF4HZCyjwgaHYPzzQebl2xjpIZBeYJAZAMBK6bGdpiAfIZD&limit=25&until=1274473318&__paging_token=enc_AdCfEescNSvqyB8irSgb5ueG5G0c8DFJ9ZAyqkBxAwkIuJNuVBNRy1MCWg6mJM5gbeCiKMH4sTh70AjnpxTbyKEd2GEGBZAs8XyU8ngDMXew2rLgZDZD',\n",
       "     'previous': 'https://graph.facebook.com/v3.0/121083237923311/feed?since=1274473318&access_token=EAABhKKutZAZA4BAGVKEmyDsVYkjcaYdDnPGZAJbhwCGxwi1X05ZARx7nxpQh2WZARtV7ydGNnnI890vEFuc0clwXKhH78rBwBJToxfFXXvBLdW6lYMItEyH8Qwl3Fc1lEooBanYI4vyvp4fNtsnjZARQF4HZCyjwgaHYPzzQebl2xjpIZBeYJAZAMBK6bGdpiAfIZD&limit=25&__paging_token=enc_AdCfEescNSvqyB8irSgb5ueG5G0c8DFJ9ZAyqkBxAwkIuJNuVBNRy1MCWg6mJM5gbeCiKMH4sTh70AjnpxTbyKEd2GEGBZAs8XyU8ngDMXew2rLgZDZD&__previous=1'}},\n",
       "   'id': '121083237923311'}],\n",
       " 'paging': {'cursors': {'after': 'QVFIUllmYjR5a3RsRzRCelo5U0dSZAjBpQzNVM1R2U2EwQXEzSHlnbTRpVUVPOUNQWUdaQlh1SW52UjBmSWZAKTUFHWjVQemtlcEFPcE5oQ0MzbDJ1d1pKd1l3',\n",
       "   'before': 'QVFIUjJsODlsdDZAzVEFZAY0k5OHlWSFNiYjNUNHpoVTBuMzI3ZAWZAOeW5vSk11WXBlZAHhobVpHWGpybDVNN25hb25DX19DbU1JVGhMaGl3YUdpOGlZAeHVDUkZA3'}}}"
      ]
     },
     "execution_count": 145,
     "metadata": {},
     "output_type": "execute_result"
    }
   ],
   "source": [
    "facebook_groups"
   ]
  },
  {
   "cell_type": "code",
   "execution_count": 152,
   "metadata": {},
   "outputs": [
    {
     "name": "stdout",
     "output_type": "stream",
     "text": [
      "https://graph.facebook.com/me/groups?access_token=EAAFYJTPKNhIBAJ3zHP4xfcpbDNAyIoZAGtJssjyq56dvFSZCGbNoh2vZCUrPiHzE7MMKSIMApaMYbTL6Vr7tujgBDlpn1Krhyk1OmEUmVmunHhEnrTZC146lZBgHjCSJyPjb0ZAz6LSubffHeVHWAZA09XQV6weNBA5FXbmitui7V4NBb1qbDSOjsqNulPnu0MZD\n",
      "{'data': [{'id': '166712014014887',\n",
      "           'name': 'Surgeons to Leader: A Sample Group for F8',\n",
      "           'privacy': 'CLOSED'},\n",
      "          {'id': '124293831511657',\n",
      "           'name': 'Symmetry Labs',\n",
      "           'privacy': 'CLOSED'},\n",
      "          {'id': '413102488792918',\n",
      "           'name': '2014 Sigma Chi Derby Days - Kappa Alpha Theta',\n",
      "           'privacy': 'OPEN'},\n",
      "          {'id': '238552512917892',\n",
      "           'name': 'Arrow Head/Big Bear Memorial Day Weekend',\n",
      "           'privacy': 'SECRET'},\n",
      "          {'id': '180597181975197',\n",
      "           'name': 'Underground Soccer League',\n",
      "           'privacy': 'OPEN'},\n",
      "          {'id': '121083237923311',\n",
      "           'name': 'NOT hanging out at indie spots.',\n",
      "           'privacy': 'OPEN'}],\n",
      " 'paging': {'cursors': {'after': 'QVFIUllmYjR5a3RsRzRCelo5U0dSZAjBpQzNVM1R2U2EwQXEzSHlnbTRpVUVPOUNQWUdaQlh1SW52UjBmSWZAKTUFHWjVQemtlcEFPcE5oQ0MzbDJ1d1pKd1l3',\n",
      "                        'before': 'QVFIUkJKcjloeHNFU011ZAjZAFLUFLbDhyQ3NYZAmZALNHdRNnhoWlNiMWtSMjVvX1liY1FMM0xNb25WVDNYdjIxOHc5X1g5N2phUFlxdXNyeFJReHZAzVEJ4SFRn'}}}\n",
      "Surgeons to Leader: A Sample Group for F8\n",
      "Symmetry Labs\n",
      "2014 Sigma Chi Derby Days - Kappa Alpha Theta\n",
      "Arrow Head/Big Bear Memorial Day Weekend\n",
      "Underground Soccer League\n",
      "NOT hanging out at indie spots.\n"
     ]
    }
   ],
   "source": [
    "group_id = get_group_id('Surgeons to Leader: A Sample Group for F8')"
   ]
  },
  {
   "cell_type": "code",
   "execution_count": 153,
   "metadata": {},
   "outputs": [
    {
     "data": {
      "text/plain": [
       "'166712014014887'"
      ]
     },
     "execution_count": 153,
     "metadata": {},
     "output_type": "execute_result"
    }
   ],
   "source": [
    "group_id"
   ]
  },
  {
   "cell_type": "code",
   "execution_count": 86,
   "metadata": {},
   "outputs": [],
   "source": [
    "group_id = '166712014014887'\n",
    "message = 'hi_3'"
   ]
  },
  {
   "cell_type": "code",
   "execution_count": 88,
   "metadata": {},
   "outputs": [],
   "source": []
  },
  {
   "cell_type": "code",
   "execution_count": null,
   "metadata": {},
   "outputs": [],
   "source": [
    "#### POST URL TO PAGE specific to BOOK\n",
    "\n",
    "book_page_url = 'https://www.facebook.com/Leadership-in-Surgery-Book-Club-168457670492771/?modal=admin_todo_tour'\n",
    "\n"
   ]
  },
  {
   "cell_type": "code",
   "execution_count": 129,
   "metadata": {},
   "outputs": [
    {
     "name": "stdout",
     "output_type": "stream",
     "text": [
      "url https://graph.facebook.com/v2.12/166712014014887/feed/?access_token=EAAFYJTPKNhIBAJYi1OamxH5Dn1edS0MxSW5WNLP3gjykoiKjUvQ5yeDNxZA4qty87A7rDEpKoI7AqznyhtXhgoQhTrKZBqA2KyrjhmZAObxC1jWGRQoeyxZBzjk3jvah6RBajt64y1VjmO0ZALwwhV6nZAGxUppkpvzau92FZAgUUIy4lXfp3Mrcxan9bYg9WkZD&message=hi_3\n",
      "{'data': [{'id': '166712014014887_166719314014157',\n",
      "           'message': 'hi',\n",
      "           'updated_time': '2018-05-02T03:20:39+0000'},\n",
      "          {'id': '166712014014887_166713540681401',\n",
      "           'story': 'Jason C. Levine made Aaron Oppenheimer an admin of the '\n",
      "                    'group Surgeons to Leader: A Sample Group for F8.',\n",
      "           'updated_time': '2018-05-02T02:48:13+0000'},\n",
      "          {'id': '166712014014887_166713097348112',\n",
      "           'message': 'How does one become a successful leader? This book '\n",
      "                      'teaches the theories and concepts behind leadership and '\n",
      "                      'explains the skills and traits needed to become a good '\n",
      "                      'leader.\\n'\n",
      "                      '\\n'\n",
      "                      'Teaching surgical faculty and trainees (i.e., residents '\n",
      "                      'and fellows) how to successfully lead will create more '\n",
      "                      'effective surgeon leaders.  The skills and theories '\n",
      "                      'reviewed in this Volume are highly useful for numerous '\n",
      "                      'leadership situations, ranging from heading a '\n",
      "                      'committee, leading a research laboratory, directing a '\n",
      "                      'clinical effort, leading a Division, leading a '\n",
      "                      'Department, among others.  By gathering these skills '\n",
      "                      'and theories into one comprehensive, portable book, '\n",
      "                      'more readers will have access to them.',\n",
      "           'updated_time': '2018-05-02T02:45:16+0000'},\n",
      "          {'id': '166712014014887_166712924014796',\n",
      "           'message': 'Surgical education is a rapidly expanding area of '\n",
      "                      'surgical research and career interest, and as the  '\n",
      "                      'Association for Academic Surgery (AAS) Fall Courses '\n",
      "                      '(www.aasurg.org) and International courses offer more '\n",
      "                      'and more specialty tracking there is a greater need for '\n",
      "                      'an accompanying textbook to supplement the material '\n",
      "                      'presented in the courses.   Success in Academic '\n",
      "                      'Surgery:  Health Services Research is a unique and '\n",
      "                      'portable handbook that focuses on clinical trials. It '\n",
      "                      'includes new educational materials which are necessary '\n",
      "                      'to address: (1) the rapid evolution and rise of novel '\n",
      "                      'research methodologies in basic science and '\n",
      "                      'clinical/educational research and (2) the changing '\n",
      "                      'environment for academic surgeons.   Success in '\n",
      "                      'Academic Surgery:  Health Services Research is a '\n",
      "                      'valuable text for medical students, surgical residents '\n",
      "                      'and others considering a career within surgery.',\n",
      "           'story': 'Jason C. Levine shared a link to the group: Surgeons to '\n",
      "                    'Leader: A Sample Group for F8.',\n",
      "           'updated_time': '2018-05-02T02:44:00+0000'},\n",
      "          {'id': '166712014014887_166712740681481',\n",
      "           'message': 'Reading is a skill, sharpened with practice, perfected '\n",
      "                      'by continuous practice. Operative surgery reinforces '\n",
      "                      'this notion. The physical skills, sense of prioritized '\n",
      "                      'organization, personal confidence, and intuition of the '\n",
      "                      'accomplished surgeon result from attention to the '\n",
      "                      'craft. That is the reason it is called the practice of '\n",
      "                      'surgery. Like the scalpel, a book becomes much '\n",
      "                      'friendlier with frequent use. Enjoy the journey.',\n",
      "           'updated_time': '2018-05-02T02:42:39+0000'},\n",
      "          {'id': '166712014014887_166712410681514',\n",
      "           'story': 'Jason C. Levine updated the group photo in Surgeons to '\n",
      "                    'Leader: A Sample Group for F8.',\n",
      "           'updated_time': '2018-05-02T02:40:26+0000'},\n",
      "          {'id': '166712014014887_166712020681553',\n",
      "           'story': 'Jason C. Levine created the group Surgeons to Leader: A '\n",
      "                    'Sample Group for F8.',\n",
      "           'updated_time': '2018-05-02T02:37:24+0000'}],\n",
      " 'paging': {'next': 'https://graph.facebook.com/v2.12/166712014014887/feed?icon_size=16&access_token=EAAFYJTPKNhIBABZB7I7NE7FvjxhP9ypZBLCXg36nWsrVKa4VfUSTJaioWCMhEUQp3x8F96LBoQ32uNAVZCw0hSu3kA5eHXjczAbTcJxYbVZAGP9CudUZC9DxspuHJRGL96RCNhPnh70ZAO4asKL642Ek6ItMxxJypGe1X3YFZCfKQOCYAuuy0PibfN4QQZCWxQUZD&limit=25&until=1525228644&__paging_token=enc_AdCZC2Q5XH3E5opCxzXKquDbxinm8EqKBOqbrEHCuGYGxzksVaQKaNGypQ7EDnPy34ZAO2TZBAUaFEI3fmT0VHBwcxs8l2kQTUF5XHL9Ekw0wCTLQZDZD',\n",
      "            'previous': 'https://graph.facebook.com/v2.12/166712014014887/feed?icon_size=16&since=1525231239&access_token=EAAFYJTPKNhIBABZB7I7NE7FvjxhP9ypZBLCXg36nWsrVKa4VfUSTJaioWCMhEUQp3x8F96LBoQ32uNAVZCw0hSu3kA5eHXjczAbTcJxYbVZAGP9CudUZC9DxspuHJRGL96RCNhPnh70ZAO4asKL642Ek6ItMxxJypGe1X3YFZCfKQOCYAuuy0PibfN4QQZCWxQUZD&limit=25&__paging_token=enc_AdBlHB2RXbQfwrUS5oNA8AgZBHa4bZB2SQSnzxRhy0TkvhPxmYQXueEuPqPSf6OgFimQTt2lyTxGdajEi1EeTZAWlt8SBrTsZCN0aVodl70jUzDL1QZDZD&__previous=1'}}\n"
     ]
    }
   ],
   "source": [
    "post_in_group(group_id, message)"
   ]
  },
  {
   "cell_type": "code",
   "execution_count": 76,
   "metadata": {},
   "outputs": [],
   "source": [
    "urltest = 'https://graph.facebook.com/v2.12/166712014014887/feed/?message=hi'\n",
    "\n"
   ]
  },
  {
   "cell_type": "code",
   "execution_count": 106,
   "metadata": {},
   "outputs": [],
   "source": [
    "access_token= 'EAAFYJTPKNhIBAJYi1OamxH5Dn1edS0MxSW5WNLP3gjykoiKjUvQ5yeDNxZA4qty87A7rDEpKoI7AqznyhtXhgoQhTrKZBqA2KyrjhmZAObxC1jWGRQoeyxZBzjk3jvah6RBajt64y1VjmO0ZALwwhV6nZAGxUppkpvzau92FZAgUUIy4lXfp3Mrcxan9bYg9WkZD'\n",
    "\n",
    "\n"
   ]
  },
  {
   "cell_type": "code",
   "execution_count": 130,
   "metadata": {},
   "outputs": [],
   "source": []
  },
  {
   "cell_type": "code",
   "execution_count": 108,
   "metadata": {},
   "outputs": [
    {
     "name": "stdout",
     "output_type": "stream",
     "text": [
      "url https://graph.facebook.com/me/accounts/?access_token=EAAFYJTPKNhIBAJYi1OamxH5Dn1edS0MxSW5WNLP3gjykoiKjUvQ5yeDNxZA4qty87A7rDEpKoI7AqznyhtXhgoQhTrKZBqA2KyrjhmZAObxC1jWGRQoeyxZBzjk3jvah6RBajt64y1VjmO0ZALwwhV6nZAGxUppkpvzau92FZAgUUIy4lXfp3Mrcxan9bYg9WkZD\n",
      "{'data': [{'access_token': 'EAAFYJTPKNhIBAH1yZC90wlGk3lc6TnFfaSb7wfqRLlyMhvwN1BwpcYBkDycGHazs54k8fix19ZA6XZC7mDRkkAUuH7KOGGn4BAFy87zgiRILbIHXuvvZBTN8BWsBRrZBHYcjOTOPTvQdHudNOZAlHq35UZCeaOY8q2BgK0cDeN4oV8KV6fIgcvnUV3xToyaD4V5UOGUSlZAq8QZDZD',\n",
      "           'category': 'Community',\n",
      "           'category_list': [{'id': '2612', 'name': 'Community'}],\n",
      "           'id': '168457670492771',\n",
      "           'name': 'Leadership in Surgery Book Club',\n",
      "           'perms': ['ADMINISTER',\n",
      "                     'EDIT_PROFILE',\n",
      "                     'CREATE_CONTENT',\n",
      "                     'MODERATE_CONTENT',\n",
      "                     'CREATE_ADS',\n",
      "                     'BASIC_ADMIN']},\n",
      "          {'access_token': 'EAAFYJTPKNhIBAFLoZB4KIQvkDkSmIPDukUyaY2wkfRicc6ZCSMgp8haxwTHa6qJCaUvHvsX4uh2HlIHuA2hjSoxyjCEvrIdaEryZCychbDqMDGszICwoW9ZAqRAO1sX1i5AGX4tLHOP2AZBGNZCW4nAGD3NXiM4pAowOQVHWZCH4eXMmWhaZBJcKsMEi5uKLUfSZB9qUKbfkt3wZDZD',\n",
      "           'category': 'Community',\n",
      "           'category_list': [{'id': '2612', 'name': 'Community'}],\n",
      "           'id': '622387544776059',\n",
      "           'name': 'PrologueTest',\n",
      "           'perms': ['ADMINISTER',\n",
      "                     'EDIT_PROFILE',\n",
      "                     'CREATE_CONTENT',\n",
      "                     'MODERATE_CONTENT',\n",
      "                     'CREATE_ADS',\n",
      "                     'BASIC_ADMIN']},\n",
      "          {'access_token': 'EAAFYJTPKNhIBAC3tkybPMohRLvHyAbNH5ZBcOfeZAoRqur8pWp2UkvHnwM5nc85aGD0tSMH9gzv6Wu6cVhZBr66XAh5LH9JvG4m1R7ZBQAbiLa8tG5kZBfYI3VCGpZB4DxyLAHScxWCDPZAleTQY8LeUKCVVgUnWLEvQ8LPvHTNzaQZCKCnR0CcGYHZBBlIBq9yM9KsEionM0rQZDZD',\n",
      "           'category': 'Artist',\n",
      "           'category_list': [{'id': '1601', 'name': 'Artist'},\n",
      "                             {'id': '557045641143373',\n",
      "                              'name': 'Design & Fashion'},\n",
      "                             {'id': '297544187300691',\n",
      "                              'name': 'Science, Technology & Engineering'}],\n",
      "           'id': '410835565645140',\n",
      "           'name': 'Symmetry Labs',\n",
      "           'perms': ['ADMINISTER',\n",
      "                     'EDIT_PROFILE',\n",
      "                     'CREATE_CONTENT',\n",
      "                     'MODERATE_CONTENT',\n",
      "                     'CREATE_ADS',\n",
      "                     'BASIC_ADMIN']}],\n",
      " 'paging': {'cursors': {'after': 'NDEwODM1NTY1NjQ1MTQw',\n",
      "                        'before': 'MTY4NDU3NjcwNDkyNzcx'}}}\n"
     ]
    }
   ],
   "source": [
    "a = get_page_access_token(access_token)\n",
    "\n"
   ]
  },
  {
   "cell_type": "code",
   "execution_count": 123,
   "metadata": {},
   "outputs": [
    {
     "name": "stdout",
     "output_type": "stream",
     "text": [
      "Leadership in Surgery Book Club\n",
      "EAAFYJTPKNhIBAH1yZC90wlGk3lc6TnFfaSb7wfqRLlyMhvwN1BwpcYBkDycGHazs54k8fix19ZA6XZC7mDRkkAUuH7KOGGn4BAFy87zgiRILbIHXuvvZBTN8BWsBRrZBHYcjOTOPTvQdHudNOZAlHq35UZCeaOY8q2BgK0cDeN4oV8KV6fIgcvnUV3xToyaD4V5UOGUSlZAq8QZDZD\n",
      "PrologueTest\n",
      "Symmetry Labs\n"
     ]
    }
   ],
   "source": [
    "for name in a[\"data\"]:\n",
    "    print (name[\"name\"])\n",
    "    if name[\"name\"] == page_name:\n",
    "        print (name[\"access_token\"])\n",
    "\n",
    "#a[\"data\"][0][\"name\"]"
   ]
  },
  {
   "cell_type": "code",
   "execution_count": 131,
   "metadata": {},
   "outputs": [
    {
     "name": "stdout",
     "output_type": "stream",
     "text": [
      "url https://graph.facebook.com/me/accounts/?access_token=EAAFYJTPKNhIBAJYi1OamxH5Dn1edS0MxSW5WNLP3gjykoiKjUvQ5yeDNxZA4qty87A7rDEpKoI7AqznyhtXhgoQhTrKZBqA2KyrjhmZAObxC1jWGRQoeyxZBzjk3jvah6RBajt64y1VjmO0ZALwwhV6nZAGxUppkpvzau92FZAgUUIy4lXfp3Mrcxan9bYg9WkZD\n",
      "{'data': [{'access_token': 'EAAFYJTPKNhIBAKl1VlHl9gY9dpQ2ReJNJppU83KOn4ElQ1qWkAPYfCgTzWqJB4GHQ4cOmnGtP6O6CpCYvhwtFZC4SdYhgj1EtykTewAG4tqQ7aR4ldOZAsGDZAZCEylwwX0ZBSP8YcyAGtTVy0uIszzZC6D1aZC2WpswG8JnEVZAKykaZCSzZCsIHDdn9F9aC3rpv9YTByI91evgZDZD',\n",
      "           'category': 'Community',\n",
      "           'category_list': [{'id': '2612', 'name': 'Community'}],\n",
      "           'id': '168457670492771',\n",
      "           'name': 'Leadership in Surgery Book Club',\n",
      "           'perms': ['ADMINISTER',\n",
      "                     'EDIT_PROFILE',\n",
      "                     'CREATE_CONTENT',\n",
      "                     'MODERATE_CONTENT',\n",
      "                     'CREATE_ADS',\n",
      "                     'BASIC_ADMIN']},\n",
      "          {'access_token': 'EAAFYJTPKNhIBAG8CCc9TNSyINwg3dahIYORyX7YdKMmjqbzRZAmS1tew38qZC5BcEjbK6biIKZBVsusXpagC4o8X2FQITyf1sDF0ZBjXZCZApptpkqjIJMgJ4DkGZAlBVDmmz5byuPa8crkeWFU1HTT6AXMKkY3zaUZBGdXSpJMTL0hlFkWN63peMDZBJFKN6BW6e1ZAY4Ybd01wZDZD',\n",
      "           'category': 'Community',\n",
      "           'category_list': [{'id': '2612', 'name': 'Community'}],\n",
      "           'id': '622387544776059',\n",
      "           'name': 'PrologueTest',\n",
      "           'perms': ['ADMINISTER',\n",
      "                     'EDIT_PROFILE',\n",
      "                     'CREATE_CONTENT',\n",
      "                     'MODERATE_CONTENT',\n",
      "                     'CREATE_ADS',\n",
      "                     'BASIC_ADMIN']},\n",
      "          {'access_token': 'EAAFYJTPKNhIBAGOdtiGOqU7uZBZC8lZAyNTgNZApLpMUsLZCwahlyW4EXGE5jBKaMIioosuI2ZAScPcNfrnGhXzEPbLjPzRiC4w8kjz4QtfFjSKN0Fhrkc0rR7ZAvUTTc5f09n3dhBcxRiGHZAWoBAjIxxAza9Gy1ZBnvRd5A2GOVycGDPe341iIb5PutDGgYYvsrnPOMmFOkWAZDZD',\n",
      "           'category': 'Artist',\n",
      "           'category_list': [{'id': '1601', 'name': 'Artist'},\n",
      "                             {'id': '557045641143373',\n",
      "                              'name': 'Design & Fashion'},\n",
      "                             {'id': '297544187300691',\n",
      "                              'name': 'Science, Technology & Engineering'}],\n",
      "           'id': '410835565645140',\n",
      "           'name': 'Symmetry Labs',\n",
      "           'perms': ['ADMINISTER',\n",
      "                     'EDIT_PROFILE',\n",
      "                     'CREATE_CONTENT',\n",
      "                     'MODERATE_CONTENT',\n",
      "                     'CREATE_ADS',\n",
      "                     'BASIC_ADMIN']}],\n",
      " 'paging': {'cursors': {'after': 'NDEwODM1NTY1NjQ1MTQw',\n",
      "                        'before': 'MTY4NDU3NjcwNDkyNzcx'}}}\n",
      "Leadership in Surgery Book Club\n",
      "PrologueTest\n",
      "Symmetry Labs\n"
     ]
    }
   ],
   "source": [
    "z = get_page_access_token(access_token, 'Leadership in Surgery Book Club')\n"
   ]
  },
  {
   "cell_type": "code",
   "execution_count": 132,
   "metadata": {},
   "outputs": [
    {
     "data": {
      "text/plain": [
       "'EAAFYJTPKNhIBAKl1VlHl9gY9dpQ2ReJNJppU83KOn4ElQ1qWkAPYfCgTzWqJB4GHQ4cOmnGtP6O6CpCYvhwtFZC4SdYhgj1EtykTewAG4tqQ7aR4ldOZAsGDZAZCEylwwX0ZBSP8YcyAGtTVy0uIszzZC6D1aZC2WpswG8JnEVZAKykaZCSzZCsIHDdn9F9aC3rpv9YTByI91evgZDZD'"
      ]
     },
     "execution_count": 132,
     "metadata": {},
     "output_type": "execute_result"
    }
   ],
   "source": [
    "z"
   ]
  },
  {
   "cell_type": "code",
   "execution_count": 78,
   "metadata": {},
   "outputs": [
    {
     "ename": "HTTPError",
     "evalue": "HTTP Error 400: Bad Request",
     "output_type": "error",
     "traceback": [
      "\u001b[0;31m---------------------------------------------------------------------------\u001b[0m",
      "\u001b[0;31mHTTPError\u001b[0m                                 Traceback (most recent call last)",
      "\u001b[0;32m<ipython-input-78-a7ca9a5bcfea>\u001b[0m in \u001b[0;36m<module>\u001b[0;34m()\u001b[0m\n\u001b[0;32m----> 1\u001b[0;31m \u001b[0mresp\u001b[0m \u001b[0;34m=\u001b[0m \u001b[0murllib\u001b[0m\u001b[0;34m.\u001b[0m\u001b[0mrequest\u001b[0m\u001b[0;34m.\u001b[0m\u001b[0murlopen\u001b[0m\u001b[0;34m(\u001b[0m\u001b[0murltest\u001b[0m\u001b[0;34m)\u001b[0m\u001b[0;34m.\u001b[0m\u001b[0mread\u001b[0m\u001b[0;34m(\u001b[0m\u001b[0;34m)\u001b[0m\u001b[0;34m\u001b[0m\u001b[0m\n\u001b[0m",
      "\u001b[0;32m~/anaconda/envs/py36/lib/python3.6/urllib/request.py\u001b[0m in \u001b[0;36murlopen\u001b[0;34m(url, data, timeout, cafile, capath, cadefault, context)\u001b[0m\n\u001b[1;32m    221\u001b[0m     \u001b[0;32melse\u001b[0m\u001b[0;34m:\u001b[0m\u001b[0;34m\u001b[0m\u001b[0m\n\u001b[1;32m    222\u001b[0m         \u001b[0mopener\u001b[0m \u001b[0;34m=\u001b[0m \u001b[0m_opener\u001b[0m\u001b[0;34m\u001b[0m\u001b[0m\n\u001b[0;32m--> 223\u001b[0;31m     \u001b[0;32mreturn\u001b[0m \u001b[0mopener\u001b[0m\u001b[0;34m.\u001b[0m\u001b[0mopen\u001b[0m\u001b[0;34m(\u001b[0m\u001b[0murl\u001b[0m\u001b[0;34m,\u001b[0m \u001b[0mdata\u001b[0m\u001b[0;34m,\u001b[0m \u001b[0mtimeout\u001b[0m\u001b[0;34m)\u001b[0m\u001b[0;34m\u001b[0m\u001b[0m\n\u001b[0m\u001b[1;32m    224\u001b[0m \u001b[0;34m\u001b[0m\u001b[0m\n\u001b[1;32m    225\u001b[0m \u001b[0;32mdef\u001b[0m \u001b[0minstall_opener\u001b[0m\u001b[0;34m(\u001b[0m\u001b[0mopener\u001b[0m\u001b[0;34m)\u001b[0m\u001b[0;34m:\u001b[0m\u001b[0;34m\u001b[0m\u001b[0m\n",
      "\u001b[0;32m~/anaconda/envs/py36/lib/python3.6/urllib/request.py\u001b[0m in \u001b[0;36mopen\u001b[0;34m(self, fullurl, data, timeout)\u001b[0m\n\u001b[1;32m    530\u001b[0m         \u001b[0;32mfor\u001b[0m \u001b[0mprocessor\u001b[0m \u001b[0;32min\u001b[0m \u001b[0mself\u001b[0m\u001b[0;34m.\u001b[0m\u001b[0mprocess_response\u001b[0m\u001b[0;34m.\u001b[0m\u001b[0mget\u001b[0m\u001b[0;34m(\u001b[0m\u001b[0mprotocol\u001b[0m\u001b[0;34m,\u001b[0m \u001b[0;34m[\u001b[0m\u001b[0;34m]\u001b[0m\u001b[0;34m)\u001b[0m\u001b[0;34m:\u001b[0m\u001b[0;34m\u001b[0m\u001b[0m\n\u001b[1;32m    531\u001b[0m             \u001b[0mmeth\u001b[0m \u001b[0;34m=\u001b[0m \u001b[0mgetattr\u001b[0m\u001b[0;34m(\u001b[0m\u001b[0mprocessor\u001b[0m\u001b[0;34m,\u001b[0m \u001b[0mmeth_name\u001b[0m\u001b[0;34m)\u001b[0m\u001b[0;34m\u001b[0m\u001b[0m\n\u001b[0;32m--> 532\u001b[0;31m             \u001b[0mresponse\u001b[0m \u001b[0;34m=\u001b[0m \u001b[0mmeth\u001b[0m\u001b[0;34m(\u001b[0m\u001b[0mreq\u001b[0m\u001b[0;34m,\u001b[0m \u001b[0mresponse\u001b[0m\u001b[0;34m)\u001b[0m\u001b[0;34m\u001b[0m\u001b[0m\n\u001b[0m\u001b[1;32m    533\u001b[0m \u001b[0;34m\u001b[0m\u001b[0m\n\u001b[1;32m    534\u001b[0m         \u001b[0;32mreturn\u001b[0m \u001b[0mresponse\u001b[0m\u001b[0;34m\u001b[0m\u001b[0m\n",
      "\u001b[0;32m~/anaconda/envs/py36/lib/python3.6/urllib/request.py\u001b[0m in \u001b[0;36mhttp_response\u001b[0;34m(self, request, response)\u001b[0m\n\u001b[1;32m    640\u001b[0m         \u001b[0;32mif\u001b[0m \u001b[0;32mnot\u001b[0m \u001b[0;34m(\u001b[0m\u001b[0;36m200\u001b[0m \u001b[0;34m<=\u001b[0m \u001b[0mcode\u001b[0m \u001b[0;34m<\u001b[0m \u001b[0;36m300\u001b[0m\u001b[0;34m)\u001b[0m\u001b[0;34m:\u001b[0m\u001b[0;34m\u001b[0m\u001b[0m\n\u001b[1;32m    641\u001b[0m             response = self.parent.error(\n\u001b[0;32m--> 642\u001b[0;31m                 'http', request, response, code, msg, hdrs)\n\u001b[0m\u001b[1;32m    643\u001b[0m \u001b[0;34m\u001b[0m\u001b[0m\n\u001b[1;32m    644\u001b[0m         \u001b[0;32mreturn\u001b[0m \u001b[0mresponse\u001b[0m\u001b[0;34m\u001b[0m\u001b[0m\n",
      "\u001b[0;32m~/anaconda/envs/py36/lib/python3.6/urllib/request.py\u001b[0m in \u001b[0;36merror\u001b[0;34m(self, proto, *args)\u001b[0m\n\u001b[1;32m    568\u001b[0m         \u001b[0;32mif\u001b[0m \u001b[0mhttp_err\u001b[0m\u001b[0;34m:\u001b[0m\u001b[0;34m\u001b[0m\u001b[0m\n\u001b[1;32m    569\u001b[0m             \u001b[0margs\u001b[0m \u001b[0;34m=\u001b[0m \u001b[0;34m(\u001b[0m\u001b[0mdict\u001b[0m\u001b[0;34m,\u001b[0m \u001b[0;34m'default'\u001b[0m\u001b[0;34m,\u001b[0m \u001b[0;34m'http_error_default'\u001b[0m\u001b[0;34m)\u001b[0m \u001b[0;34m+\u001b[0m \u001b[0morig_args\u001b[0m\u001b[0;34m\u001b[0m\u001b[0m\n\u001b[0;32m--> 570\u001b[0;31m             \u001b[0;32mreturn\u001b[0m \u001b[0mself\u001b[0m\u001b[0;34m.\u001b[0m\u001b[0m_call_chain\u001b[0m\u001b[0;34m(\u001b[0m\u001b[0;34m*\u001b[0m\u001b[0margs\u001b[0m\u001b[0;34m)\u001b[0m\u001b[0;34m\u001b[0m\u001b[0m\n\u001b[0m\u001b[1;32m    571\u001b[0m \u001b[0;34m\u001b[0m\u001b[0m\n\u001b[1;32m    572\u001b[0m \u001b[0;31m# XXX probably also want an abstract factory that knows when it makes\u001b[0m\u001b[0;34m\u001b[0m\u001b[0;34m\u001b[0m\u001b[0m\n",
      "\u001b[0;32m~/anaconda/envs/py36/lib/python3.6/urllib/request.py\u001b[0m in \u001b[0;36m_call_chain\u001b[0;34m(self, chain, kind, meth_name, *args)\u001b[0m\n\u001b[1;32m    502\u001b[0m         \u001b[0;32mfor\u001b[0m \u001b[0mhandler\u001b[0m \u001b[0;32min\u001b[0m \u001b[0mhandlers\u001b[0m\u001b[0;34m:\u001b[0m\u001b[0;34m\u001b[0m\u001b[0m\n\u001b[1;32m    503\u001b[0m             \u001b[0mfunc\u001b[0m \u001b[0;34m=\u001b[0m \u001b[0mgetattr\u001b[0m\u001b[0;34m(\u001b[0m\u001b[0mhandler\u001b[0m\u001b[0;34m,\u001b[0m \u001b[0mmeth_name\u001b[0m\u001b[0;34m)\u001b[0m\u001b[0;34m\u001b[0m\u001b[0m\n\u001b[0;32m--> 504\u001b[0;31m             \u001b[0mresult\u001b[0m \u001b[0;34m=\u001b[0m \u001b[0mfunc\u001b[0m\u001b[0;34m(\u001b[0m\u001b[0;34m*\u001b[0m\u001b[0margs\u001b[0m\u001b[0;34m)\u001b[0m\u001b[0;34m\u001b[0m\u001b[0m\n\u001b[0m\u001b[1;32m    505\u001b[0m             \u001b[0;32mif\u001b[0m \u001b[0mresult\u001b[0m \u001b[0;32mis\u001b[0m \u001b[0;32mnot\u001b[0m \u001b[0;32mNone\u001b[0m\u001b[0;34m:\u001b[0m\u001b[0;34m\u001b[0m\u001b[0m\n\u001b[1;32m    506\u001b[0m                 \u001b[0;32mreturn\u001b[0m \u001b[0mresult\u001b[0m\u001b[0;34m\u001b[0m\u001b[0m\n",
      "\u001b[0;32m~/anaconda/envs/py36/lib/python3.6/urllib/request.py\u001b[0m in \u001b[0;36mhttp_error_default\u001b[0;34m(self, req, fp, code, msg, hdrs)\u001b[0m\n\u001b[1;32m    648\u001b[0m \u001b[0;32mclass\u001b[0m \u001b[0mHTTPDefaultErrorHandler\u001b[0m\u001b[0;34m(\u001b[0m\u001b[0mBaseHandler\u001b[0m\u001b[0;34m)\u001b[0m\u001b[0;34m:\u001b[0m\u001b[0;34m\u001b[0m\u001b[0m\n\u001b[1;32m    649\u001b[0m     \u001b[0;32mdef\u001b[0m \u001b[0mhttp_error_default\u001b[0m\u001b[0;34m(\u001b[0m\u001b[0mself\u001b[0m\u001b[0;34m,\u001b[0m \u001b[0mreq\u001b[0m\u001b[0;34m,\u001b[0m \u001b[0mfp\u001b[0m\u001b[0;34m,\u001b[0m \u001b[0mcode\u001b[0m\u001b[0;34m,\u001b[0m \u001b[0mmsg\u001b[0m\u001b[0;34m,\u001b[0m \u001b[0mhdrs\u001b[0m\u001b[0;34m)\u001b[0m\u001b[0;34m:\u001b[0m\u001b[0;34m\u001b[0m\u001b[0m\n\u001b[0;32m--> 650\u001b[0;31m         \u001b[0;32mraise\u001b[0m \u001b[0mHTTPError\u001b[0m\u001b[0;34m(\u001b[0m\u001b[0mreq\u001b[0m\u001b[0;34m.\u001b[0m\u001b[0mfull_url\u001b[0m\u001b[0;34m,\u001b[0m \u001b[0mcode\u001b[0m\u001b[0;34m,\u001b[0m \u001b[0mmsg\u001b[0m\u001b[0;34m,\u001b[0m \u001b[0mhdrs\u001b[0m\u001b[0;34m,\u001b[0m \u001b[0mfp\u001b[0m\u001b[0;34m)\u001b[0m\u001b[0;34m\u001b[0m\u001b[0m\n\u001b[0m\u001b[1;32m    651\u001b[0m \u001b[0;34m\u001b[0m\u001b[0m\n\u001b[1;32m    652\u001b[0m \u001b[0;32mclass\u001b[0m \u001b[0mHTTPRedirectHandler\u001b[0m\u001b[0;34m(\u001b[0m\u001b[0mBaseHandler\u001b[0m\u001b[0;34m)\u001b[0m\u001b[0;34m:\u001b[0m\u001b[0;34m\u001b[0m\u001b[0m\n",
      "\u001b[0;31mHTTPError\u001b[0m: HTTP Error 400: Bad Request"
     ]
    }
   ],
   "source": [
    "resp = urllib.request.urlopen(urltest).read()\n"
   ]
  },
  {
   "cell_type": "code",
   "execution_count": 65,
   "metadata": {},
   "outputs": [
    {
     "name": "stdout",
     "output_type": "stream",
     "text": [
      "{'data': [{'id': '166712014014887',\n",
      "           'name': 'Surgeons to Leader: A Sample Group for F8',\n",
      "           'privacy': 'CLOSED'},\n",
      "          {'id': '124293831511657',\n",
      "           'name': 'Symmetry Labs',\n",
      "           'privacy': 'CLOSED'},\n",
      "          {'id': '413102488792918',\n",
      "           'name': '2014 Sigma Chi Derby Days - Kappa Alpha Theta',\n",
      "           'privacy': 'OPEN'},\n",
      "          {'id': '238552512917892',\n",
      "           'name': 'Arrow Head/Big Bear Memorial Day Weekend',\n",
      "           'privacy': 'SECRET'},\n",
      "          {'id': '180597181975197',\n",
      "           'name': 'Underground Soccer League',\n",
      "           'privacy': 'OPEN'},\n",
      "          {'id': '121083237923311',\n",
      "           'name': 'NOT hanging out at indie spots.',\n",
      "           'privacy': 'OPEN'}],\n",
      " 'paging': {'cursors': {'after': 'QVFIUllmYjR5a3RsRzRCelo5U0dSZAjBpQzNVM1R2U2EwQXEzSHlnbTRpVUVPOUNQWUdaQlh1SW52UjBmSWZAKTUFHWjVQemtlcEFPcE5oQ0MzbDJ1d1pKd1l3',\n",
      "                        'before': 'QVFIUkJKcjloeHNFU011ZAjZAFLUFLbDhyQ3NYZAmZALNHdRNnhoWlNiMWtSMjVvX1liY1FMM0xNb25WVDNYdjIxOHc5X1g5N2phUFlxdXNyeFJReHZAzVEJ4SFRn'}}}\n"
     ]
    },
    {
     "data": {
      "text/plain": [
       "{'data': [{'id': '166712014014887',\n",
       "   'name': 'Surgeons to Leader: A Sample Group for F8',\n",
       "   'privacy': 'CLOSED'},\n",
       "  {'id': '124293831511657', 'name': 'Symmetry Labs', 'privacy': 'CLOSED'},\n",
       "  {'id': '413102488792918',\n",
       "   'name': '2014 Sigma Chi Derby Days - Kappa Alpha Theta',\n",
       "   'privacy': 'OPEN'},\n",
       "  {'id': '238552512917892',\n",
       "   'name': 'Arrow Head/Big Bear Memorial Day Weekend',\n",
       "   'privacy': 'SECRET'},\n",
       "  {'id': '180597181975197',\n",
       "   'name': 'Underground Soccer League',\n",
       "   'privacy': 'OPEN'},\n",
       "  {'id': '121083237923311',\n",
       "   'name': 'NOT hanging out at indie spots.',\n",
       "   'privacy': 'OPEN'}],\n",
       " 'paging': {'cursors': {'after': 'QVFIUllmYjR5a3RsRzRCelo5U0dSZAjBpQzNVM1R2U2EwQXEzSHlnbTRpVUVPOUNQWUdaQlh1SW52UjBmSWZAKTUFHWjVQemtlcEFPcE5oQ0MzbDJ1d1pKd1l3',\n",
       "   'before': 'QVFIUkJKcjloeHNFU011ZAjZAFLUFLbDhyQ3NYZAmZALNHdRNnhoWlNiMWtSMjVvX1liY1FMM0xNb25WVDNYdjIxOHc5X1g5N2phUFlxdXNyeFJReHZAzVEJ4SFRn'}}}"
      ]
     },
     "execution_count": 65,
     "metadata": {},
     "output_type": "execute_result"
    }
   ],
   "source": [
    "get_user_groups()"
   ]
  },
  {
   "cell_type": "code",
   "execution_count": 135,
   "metadata": {},
   "outputs": [
    {
     "name": "stdout",
     "output_type": "stream",
     "text": [
      "https://graph.facebook.com/me/groups?access_token=EAAFYJTPKNhIBAJYi1OamxH5Dn1edS0MxSW5WNLP3gjykoiKjUvQ5yeDNxZA4qty87A7rDEpKoI7AqznyhtXhgoQhTrKZBqA2KyrjhmZAObxC1jWGRQoeyxZBzjk3jvah6RBajt64y1VjmO0ZALwwhV6nZAGxUppkpvzau92FZAgUUIy4lXfp3Mrcxan9bYg9WkZD&fields=feed\n",
      "{'data': []}\n"
     ]
    },
    {
     "data": {
      "text/plain": [
       "{'data': []}"
      ]
     },
     "execution_count": 135,
     "metadata": {},
     "output_type": "execute_result"
    }
   ],
   "source": [
    "fields = 'feed'\n",
    "group_id = \"180597181975197\"\n",
    "get_info_from_group(group_id, fields)    "
   ]
  },
  {
   "cell_type": "code",
   "execution_count": null,
   "metadata": {},
   "outputs": [],
   "source": []
  },
  {
   "cell_type": "code",
   "execution_count": 42,
   "metadata": {},
   "outputs": [
    {
     "ename": "ModuleNotFoundError",
     "evalue": "No module named 'pyquery'",
     "output_type": "error",
     "traceback": [
      "\u001b[0;31m---------------------------------------------------------------------------\u001b[0m",
      "\u001b[0;31mModuleNotFoundError\u001b[0m                       Traceback (most recent call last)",
      "\u001b[0;32m<ipython-input-42-383120568bfb>\u001b[0m in \u001b[0;36m<module>\u001b[0;34m()\u001b[0m\n\u001b[1;32m      3\u001b[0m \u001b[0;32mimport\u001b[0m \u001b[0margparse\u001b[0m\u001b[0;34m\u001b[0m\u001b[0m\n\u001b[1;32m      4\u001b[0m \u001b[0;32mimport\u001b[0m \u001b[0mrequests\u001b[0m\u001b[0;34m\u001b[0m\u001b[0m\n\u001b[0;32m----> 5\u001b[0;31m \u001b[0;32mimport\u001b[0m \u001b[0mpyquery\u001b[0m\u001b[0;34m\u001b[0m\u001b[0m\n\u001b[0m\u001b[1;32m      6\u001b[0m \u001b[0;34m\u001b[0m\u001b[0m\n\u001b[1;32m      7\u001b[0m \u001b[0;32mdef\u001b[0m \u001b[0mlogin\u001b[0m\u001b[0;34m(\u001b[0m\u001b[0msession\u001b[0m\u001b[0;34m,\u001b[0m \u001b[0memail\u001b[0m\u001b[0;34m,\u001b[0m \u001b[0mpassword\u001b[0m\u001b[0;34m)\u001b[0m\u001b[0;34m:\u001b[0m\u001b[0;34m\u001b[0m\u001b[0m\n",
      "\u001b[0;31mModuleNotFoundError\u001b[0m: No module named 'pyquery'"
     ]
    }
   ],
   "source": [
    "#!/home/drspock/scripts/FBInvite/bin/python\n",
    "\n",
    "import argparse\n",
    "import requests\n",
    "import pyquery\n",
    "\n",
    "def login(session, email, password):\n",
    "    \n",
    "    '''\n",
    "    Attempt to login to Facebook. Returns user ID, xs token and\n",
    "    fb_dtsg token. All 3 are required to make requests to\n",
    "    Facebook endpoints as a logged in user. Returns False if\n",
    "    login failed.\n",
    "    '''\n",
    "\n",
    "    # Navigate to Facebook's homepage to load Facebook's cookies.\n",
    "    response = session.get('https://m.facebook.com')\n",
    "    \n",
    "    # Attempt to login to Facebook\n",
    "    response = session.post('https://m.facebook.com/login.php', data={\n",
    "        'email': email,\n",
    "        'pass': password\n",
    "    }, allow_redirects=False)\n",
    "    \n",
    "    # If c_user cookie is present, login was successful\n",
    "    if 'c_user' in response.cookies:\n",
    "\n",
    "        # Make a request to homepage to get fb_dtsg token\n",
    "        homepage_resp = session.get('https://m.facebook.com/home.php')\n",
    "        \n",
    "        dom = pyquery.PyQuery(homepage_resp.text.encode('utf8'))\n",
    "        fb_dtsg = dom('input[name=\"fb_dtsg\"]').val()\n",
    "\n",
    "        return fb_dtsg, response.cookies['c_user'], response.cookies['xs']\n",
    "    else:\n",
    "        return False \n",
    "\n",
    "if __name__ == \"__main__\":\n",
    "    \n",
    "    parser = argparse.ArgumentParser(description='Login to Facebook')\n",
    "    parser.add_argument('email', help='Email address')\n",
    "    parser.add_argument('password', help='Login password')\n",
    "\n",
    "    args = parser.parse_args()\n",
    "\n",
    "    session = requests.session()\n",
    "    session.headers.update({\n",
    "        'User-Agent': 'Mozilla/5.0 (X11; Linux i686; rv:39.0) Gecko/20100101 Firefox/39.0'\n",
    "    })\n",
    "\n",
    "    fb_dtsg, user_id, xs = login(session, args.email, args.password)\n",
    "    \n",
    "    if user_id:\n",
    "        print ('{0}:{1}:{2}'.format(fb_dtsg, user_id, xs))\n",
    "    else:\n",
    "        print ('Login Failed')"
   ]
  },
  {
   "cell_type": "code",
   "execution_count": null,
   "metadata": {},
   "outputs": [],
   "source": []
  }
 ],
 "metadata": {
  "kernelspec": {
   "display_name": "Python 3",
   "language": "python",
   "name": "python3"
  },
  "language_info": {
   "codemirror_mode": {
    "name": "ipython",
    "version": 3
   },
   "file_extension": ".py",
   "mimetype": "text/x-python",
   "name": "python",
   "nbconvert_exporter": "python",
   "pygments_lexer": "ipython3",
   "version": "3.6.4"
  }
 },
 "nbformat": 4,
 "nbformat_minor": 2
}
